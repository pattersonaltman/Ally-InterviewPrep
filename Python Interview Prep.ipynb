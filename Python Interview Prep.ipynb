{
 "cells": [
  {
   "cell_type": "markdown",
   "id": "dade1599",
   "metadata": {},
   "source": [
    "# 1. Write a Python function to calculate the factorial of a number."
   ]
  },
  {
   "cell_type": "code",
   "execution_count": 87,
   "id": "5fa60e2a",
   "metadata": {},
   "outputs": [
    {
     "name": "stdout",
     "output_type": "stream",
     "text": [
      "0! = 1\n",
      "1! = 1\n",
      "2! = 2\n",
      "3! = 6\n",
      "4! = 24\n",
      "5! = 120\n",
      "6! = 720\n",
      "7! = 5040\n",
      "8! = 40320\n",
      "9! = 362880\n",
      "10! = 3628800\n",
      "11! = 39916800\n",
      "12! = 479001600\n",
      "13! = 6227020800\n",
      "14! = 87178291200\n",
      "15! = 1307674368000\n",
      "16! = 20922789888000\n",
      "17! = 355687428096000\n",
      "18! = 6402373705728000\n",
      "19! = 121645100408832000\n",
      "20! = 2432902008176640000\n",
      "21! = 51090942171709440000\n",
      "22! = 1124000727777607680000\n",
      "23! = 25852016738884976640000\n",
      "24! = 620448401733239439360000\n"
     ]
    }
   ],
   "source": [
    "#Built in function\n",
    "\n",
    "#Solution\n",
    "    # factorial(x)\n",
    "\n",
    "#Driver and implement\n",
    "\n",
    "for x in range(25):\n",
    "    print(f'{x}! =', factorial(x))"
   ]
  },
  {
   "cell_type": "code",
   "execution_count": 42,
   "id": "83b4ed7a",
   "metadata": {},
   "outputs": [
    {
     "name": "stdout",
     "output_type": "stream",
     "text": [
      "0!: 1\n",
      "1!: 1\n",
      "2!: 2\n",
      "3!: 6\n",
      "4!: 24\n",
      "5!: 120\n",
      "6!: 720\n",
      "7!: 5040\n",
      "8!: 40320\n",
      "9!: 362880\n",
      "10!: 3628800\n",
      "11!: 39916800\n",
      "12!: 479001600\n",
      "13!: 6227020800\n",
      "14!: 87178291200\n",
      "15!: 1307674368000\n",
      "16!: 20922789888000\n",
      "17!: 355687428096000\n",
      "18!: 6402373705728000\n",
      "19!: 121645100408832000\n",
      "20!: 2432902008176640000\n",
      "21!: 51090942171709440000\n",
      "22!: 1124000727777607680000\n",
      "23!: 25852016738884976640000\n",
      "24!: 620448401733239439360000\n"
     ]
    }
   ],
   "source": [
    "#From scratch implementation\n",
    "\n",
    "#Solution\n",
    "def my_fact(num):\n",
    "    fact = 1\n",
    "    for i in range(1,num+1):\n",
    "        fact *= i\n",
    "    return fact\n",
    "\n",
    "\n",
    "#Driver and implement\n",
    "for x in range(25):\n",
    "    print(f'{x}!:', my_fact(x))"
   ]
  },
  {
   "cell_type": "markdown",
   "id": "2c007857",
   "metadata": {},
   "source": [
    "\n",
    "\n",
    "\n",
    "\n",
    "\n",
    "\n",
    "\n"
   ]
  },
  {
   "cell_type": "markdown",
   "id": "447a7795",
   "metadata": {},
   "source": [
    "# 2. Write a Python function to check if a number is prime. "
   ]
  },
  {
   "cell_type": "code",
   "execution_count": 50,
   "id": "1a4e5801",
   "metadata": {},
   "outputs": [
    {
     "name": "stdout",
     "output_type": "stream",
     "text": [
      "[2, 3, 5, 7, 11, 13, 17, 19, 23, 29, 31, 37, 41, 43, 47, 53, 59, 61, 67, 71, 73, 79, 83, 89, 97]\n"
     ]
    }
   ],
   "source": [
    "#From scratch function\n",
    "\n",
    "#Solution\n",
    "def is_prime(num):\n",
    "    if(num <= 1):\n",
    "        return False\n",
    "    for x in range(2, int((num+1)**0.5)+1):   # [2,sqrt(n)]\n",
    "        if num % x == 0:\n",
    "            return False\n",
    "    return True  #is prime if this point reached\n",
    "\n",
    "\n",
    "#Driver and implementation\n",
    "\n",
    "primes = []\n",
    "for x in range(100):\n",
    "    if is_prime(x):\n",
    "        primes.append(x)\n",
    "\n",
    "print(primes)"
   ]
  },
  {
   "cell_type": "markdown",
   "id": "0e819dac",
   "metadata": {},
   "source": [
    "\n",
    "\n",
    "\n",
    "\n",
    "\n",
    "\n",
    "\n"
   ]
  },
  {
   "cell_type": "markdown",
   "id": "ffb2b3a0",
   "metadata": {},
   "source": [
    "# 3. Write a Python function to check if a string is a palindrome. "
   ]
  },
  {
   "cell_type": "code",
   "execution_count": 91,
   "id": "c5b90aa1",
   "metadata": {},
   "outputs": [
    {
     "name": "stdout",
     "output_type": "stream",
     "text": [
      "True\n",
      "True\n",
      "True\n",
      "True\n",
      "False\n"
     ]
    }
   ],
   "source": [
    "#From scratch function\n",
    "\n",
    "#Solution\n",
    "# import string\n",
    "def palindrome(s):\n",
    "    s = s.lower()             #convert s to all lowercase\n",
    "    for ch in s:\n",
    "        if ch not in string.ascii_lowercase:\n",
    "            s = s.replace(ch, '')      #remove all characters not in a-z (whitespace, symbols)\n",
    "\n",
    "    if s == s[::-1]:          #if s == s backwards\n",
    "        return True\n",
    "    else:\n",
    "        return False\n",
    "    \n",
    "\n",
    "#Driver and implementation\n",
    "print(palindrome('kayak'))\n",
    "print(palindrome('rotator'))\n",
    "print(palindrome('A man, a plan, a canal, Panama!'))\n",
    "print(palindrome('Eva, can I see bees in a cave?'))\n",
    "print(palindrome(\"Hello there, this is not a palindrome\"))   #not palindrome"
   ]
  },
  {
   "cell_type": "markdown",
   "id": "990f4119",
   "metadata": {},
   "source": [
    "\n",
    "\n",
    "\n",
    "\n",
    "\n",
    "\n",
    "\n"
   ]
  },
  {
   "cell_type": "markdown",
   "id": "04c9aa65",
   "metadata": {},
   "source": [
    "# 4. Write a Python program to check if two strings are anagrams. "
   ]
  },
  {
   "cell_type": "code",
   "execution_count": 94,
   "id": "a9fc58c8",
   "metadata": {},
   "outputs": [
    {
     "name": "stdout",
     "output_type": "stream",
     "text": [
      "flow | wolf: True\n",
      "the tennis pro | he in net sport: True\n",
      "Hello | World: False\n",
      "python | cool: False\n"
     ]
    }
   ],
   "source": [
    "#Simple Solution\n",
    "\n",
    "def are_anagrams(s1, s2):\n",
    "    s1 = s1.lower().replace(' ','')\n",
    "    s2 = s2.lower().replace(' ','')\n",
    "    return sorted(s1) == sorted(s2)\n",
    "\n",
    "\n",
    "#Driver\n",
    "anagram1 = ['flow','wolf']\n",
    "anagram2 = ['the tennis pro','he in net sport']\n",
    "not_anagram1 = ['Hello','World']\n",
    "not_anagram2 = ['python','cool']\n",
    "\n",
    "print(f'{anagram1[0]} | {anagram1[1]}:', are_anagrams(anagram1[0], anagram1[1]))\n",
    "print(f'{anagram2[0]} | {anagram2[1]}:', are_anagrams(anagram2[0], anagram2[1]))\n",
    "print(f'{not_anagram1[0]} | {not_anagram1[1]}:', are_anagrams(not_anagram1[0], not_anagram1[1]))\n",
    "print(f'{not_anagram2[0]} | {not_anagram2[1]}:', are_anagrams(not_anagram2[0], not_anagram2[1]))"
   ]
  },
  {
   "cell_type": "code",
   "execution_count": 85,
   "id": "39d62ba6",
   "metadata": {},
   "outputs": [
    {
     "name": "stdout",
     "output_type": "stream",
     "text": [
      "flow | wolf: True\n",
      "the tennis pro | he in net sport: True\n",
      "Hello | World: False\n",
      "python | cool: False\n"
     ]
    }
   ],
   "source": [
    "#From scratch solution with built in functions\n",
    "\n",
    "#Solution\n",
    "\n",
    "def are_anagrams(s1, s2):\n",
    "    s1 = to_lowercase_and_az(s1)\n",
    "    s2 = to_lowercase_and_az(s2)\n",
    "    return sorted(s1) == sorted(s2)\n",
    "    \n",
    "    \n",
    "#Helper functions\n",
    "\n",
    "'''\n",
    "Description: Converts string to lowercase and removes all characters that \n",
    "                are not a through z (a-z)\n",
    "'''\n",
    "def to_lowercase_and_az(s):\n",
    "    newstring = s\n",
    "    newstring = s.lower()\n",
    "    for ch in newstring:\n",
    "        if ch not in string.ascii_lowercase:\n",
    "            newstring = newstring.replace(ch, '') #remove all characters not in a-z (whitespace, symbols)\n",
    "    return newstring\n",
    "\n",
    "\n",
    "#Driver and implementation\n",
    "\n",
    "anagram1 = ['flow','wolf']\n",
    "anagram2 = ['the tennis pro','he in net sport']\n",
    "not_anagram1 = ['Hello','World']\n",
    "not_anagram2 = ['python','cool']\n",
    "\n",
    "print(f'{anagram1[0]} | {anagram1[1]}:', are_anagrams(anagram1[0], anagram1[1]))\n",
    "print(f'{anagram2[0]} | {anagram2[1]}:', are_anagrams(anagram2[0], anagram2[1]))\n",
    "print(f'{not_anagram1[0]} | {not_anagram1[1]}:', are_anagrams(not_anagram1[0], not_anagram1[1]))\n",
    "print(f'{not_anagram2[0]} | {not_anagram2[1]}:', are_anagrams(not_anagram2[0], not_anagram2[1]))\n"
   ]
  },
  {
   "cell_type": "markdown",
   "id": "6063379a",
   "metadata": {},
   "source": [
    "\n",
    "\n",
    "\n",
    "\n",
    "\n",
    "\n",
    "\n"
   ]
  },
  {
   "cell_type": "markdown",
   "id": "17fb414e",
   "metadata": {},
   "source": [
    "# 5. Write a Python program to reverse a string. "
   ]
  },
  {
   "cell_type": "code",
   "execution_count": 106,
   "id": "54bb0e8e",
   "metadata": {},
   "outputs": [
    {
     "name": "stdout",
     "output_type": "stream",
     "text": [
      "dlroW olleH\n"
     ]
    }
   ],
   "source": [
    "#Built in function - Solution 1\n",
    "strg = 'Hello World'\n",
    "print(strg[::-1])"
   ]
  },
  {
   "cell_type": "code",
   "execution_count": 107,
   "id": "b4d2bf84",
   "metadata": {},
   "outputs": [
    {
     "name": "stdout",
     "output_type": "stream",
     "text": [
      "dlroW olleH\n"
     ]
    }
   ],
   "source": [
    "#Solution 2\n",
    "\n",
    "def reverse(strg):\n",
    "    return strg[::-1]\n",
    "\n",
    "\n",
    "#Driver\n",
    "strg = 'Hello World'\n",
    "print(reverse(strg))"
   ]
  },
  {
   "cell_type": "markdown",
   "id": "766a1a4a",
   "metadata": {},
   "source": [
    "\n",
    "\n",
    "\n",
    "\n",
    "\n",
    "\n",
    "\n"
   ]
  },
  {
   "cell_type": "markdown",
   "id": "86e741c7",
   "metadata": {},
   "source": [
    "# 6. Write a Python program to sort a list of integers. "
   ]
  },
  {
   "cell_type": "code",
   "execution_count": 10,
   "id": "4ab94868",
   "metadata": {},
   "outputs": [
    {
     "name": "stdout",
     "output_type": "stream",
     "text": [
      "lst before: [58, 12, 5, 5, 25, 63, 66, 40, 92, 81]\n",
      "lst after: [5, 5, 12, 25, 40, 58, 63, 66, 81, 92]\n"
     ]
    }
   ],
   "source": [
    "#Built in function\n",
    "\n",
    "\n",
    "#Solution\n",
    "\n",
    "def my_sort(lst):\n",
    "        return lst.sort()\n",
    "\n",
    "    \n",
    "#Driver\n",
    "\n",
    "from random import randint\n",
    "lst = []\n",
    "for i in range(10):\n",
    "    lst.append(randint(1,100))\n",
    "\n",
    "print('lst before:',lst)\n",
    "\n",
    "\n",
    "#Implement\n",
    "my_sort(lst)\n",
    "print('lst after:',lst)"
   ]
  },
  {
   "cell_type": "markdown",
   "id": "87143e0c",
   "metadata": {},
   "source": [
    "\n",
    "\n",
    "\n",
    "\n",
    "\n",
    "\n",
    "\n"
   ]
  },
  {
   "cell_type": "markdown",
   "id": "0480835f",
   "metadata": {},
   "source": [
    "# 7. Write a Python program to find the common elements between two lists.\n",
    "\n",
    "    Questions:\n",
    "        - Duplicate common elements as well?\n",
    "        - common elements in order, or out of order as well?"
   ]
  },
  {
   "cell_type": "code",
   "execution_count": 146,
   "id": "542ad983",
   "metadata": {},
   "outputs": [
    {
     "name": "stdout",
     "output_type": "stream",
     "text": [
      "[1, 3, 3.4, 'HeLlo', [7, 8]]\n"
     ]
    }
   ],
   "source": [
    "#Solution\n",
    "\n",
    "#Notes:\n",
    "'''\n",
    "- while loop required over for loop -> because index cannot be properly \n",
    "implemented using for loop (even if getting index through unpacking)\n",
    "'''\n",
    "\n",
    "def common_elements(lst1, lst2):\n",
    "    common = []\n",
    "    if len(lst1) >= len(lst2):\n",
    "        index = 0\n",
    "        while index < len(lst1):\n",
    "            if lst1[index] in lst2:\n",
    "                x = lst1[index]\n",
    "                common.append(x)\n",
    "                lst1.remove(x)\n",
    "                lst2.remove(x)\n",
    "                index -= 1\n",
    "            index += 1\n",
    "    else:\n",
    "        index = 0\n",
    "        while index < len(lst2):\n",
    "            if lst2[index] in lst1:\n",
    "                x = lst2[index]\n",
    "                common.append(x)\n",
    "                lst1.remove(x)\n",
    "                lst2.remove(x)\n",
    "                index -= 1\n",
    "            index += 1\n",
    "    return common\n",
    "\n",
    "\n",
    "#Driver\n",
    "lst1 = [1, 2, 3, 3.4, 9.6, 3, 'HeLlo', 'Hello', (5,6), [7,8]]\n",
    "lst2 = [1, 3, 3.4, 'HeLlo', 'HelLo', (5,7), [7,8]]\n",
    "print(common_elements(lst1, lst2))"
   ]
  },
  {
   "cell_type": "code",
   "execution_count": 147,
   "id": "ca8fca95",
   "metadata": {},
   "outputs": [
    {
     "name": "stdout",
     "output_type": "stream",
     "text": [
      "[1, 3, 'HeLlo', [7, 8]]\n"
     ]
    }
   ],
   "source": [
    "#Incorrect Solution - Doesn't get 3.4 (~ misses values if two or more in a row)\n",
    "\n",
    "def common_elements(lst1, lst2):\n",
    "    common = []\n",
    "    if len(lst1) >= len(lst2):\n",
    "        for x in lst1:\n",
    "            if x in lst2:\n",
    "                common.append(x)\n",
    "                lst1.remove(x)\n",
    "                lst2.remove(x)\n",
    "    else:\n",
    "        for x in lst2:\n",
    "            if x in lst1:\n",
    "                common.append(x)\n",
    "                lst1.remove(x)\n",
    "                lst2.remove(x)\n",
    "    return common\n",
    "\n",
    "\n",
    "#Driver\n",
    "lst1 = [1, 2, 3, 3.4, 9.6, 'HeLlo', 'Hello', (5,6), [7,8]]\n",
    "lst2 = [1, 3, 3.4, 'HeLlo', 'HelLo', (5,7), [7,8]]\n",
    "print(common_elements(lst1, lst2))"
   ]
  },
  {
   "cell_type": "markdown",
   "id": "86690af1",
   "metadata": {},
   "source": [
    "\n",
    "\n",
    "\n",
    "\n",
    "\n",
    "\n",
    "\n"
   ]
  },
  {
   "cell_type": "markdown",
   "id": "dd99bab9",
   "metadata": {},
   "source": [
    "# 8. Write a Python function to find the maximum and minimum elements in a list. "
   ]
  },
  {
   "cell_type": "code",
   "execution_count": 185,
   "id": "b7ae073a",
   "metadata": {},
   "outputs": [
    {
     "name": "stdout",
     "output_type": "stream",
     "text": [
      "[38, 96, 56, 77, 14, 76, 37, 5, 72, 18] \n",
      "\n",
      "Min: 5\n",
      "Max: 96\n"
     ]
    }
   ],
   "source": [
    "#Solution\n",
    "\n",
    "from random import randint\n",
    "lst = []\n",
    "for i in range(10):\n",
    "    lst.append(randint(0,100))\n",
    "print(lst,'\\n')\n",
    "\n",
    "print('Min:', min(lst))\n",
    "print('Max:', max(lst))"
   ]
  },
  {
   "cell_type": "markdown",
   "id": "b36cc696",
   "metadata": {},
   "source": [
    "\n",
    "\n",
    "\n",
    "\n",
    "\n",
    "\n",
    "\n"
   ]
  },
  {
   "cell_type": "markdown",
   "id": "7c64c29b",
   "metadata": {},
   "source": [
    "# 9. Write a Python program to remove duplicates from a list. "
   ]
  },
  {
   "cell_type": "code",
   "execution_count": 187,
   "id": "95dccfc8",
   "metadata": {},
   "outputs": [
    {
     "name": "stdout",
     "output_type": "stream",
     "text": [
      "{1, 2, 3, 4, 5}\n"
     ]
    }
   ],
   "source": [
    "#Solution\n",
    "\n",
    "lst = [1,2,2,3,3,3,4,4,4,4,5]\n",
    "lst = set(lst)\n",
    "print(lst)"
   ]
  },
  {
   "cell_type": "markdown",
   "id": "4ce70013",
   "metadata": {},
   "source": [
    "\n",
    "\n",
    "\n",
    "\n",
    "\n",
    "\n",
    "\n"
   ]
  },
  {
   "cell_type": "markdown",
   "id": "6e3de5ac",
   "metadata": {},
   "source": [
    "# 10. Write a Python program to find the second largest number in a list. "
   ]
  },
  {
   "cell_type": "code",
   "execution_count": 199,
   "id": "60c1fba7",
   "metadata": {},
   "outputs": [
    {
     "name": "stdout",
     "output_type": "stream",
     "text": [
      "[2, 10, 12, 34, 40, 41, 67, 85, 90, 97] \n",
      "\n",
      "Second Largest: 90\n"
     ]
    }
   ],
   "source": [
    "#Solution\n",
    "\n",
    "'''\n",
    "Notes:\n",
    "- temp used in order to not modify the data in the list\n",
    "'''\n",
    "\n",
    "def second_largest(lst):\n",
    "    temp = lst\n",
    "    temp.remove(max(temp))\n",
    "    return max(temp)\n",
    "\n",
    "#Driver\n",
    "from random import randint\n",
    "lst = []\n",
    "for x in range(10):\n",
    "    lst.append(randint(0,100))\n",
    "print(sorted(lst),'\\n')\n",
    "\n",
    "print('Second Largest:',second_largest(lst))"
   ]
  },
  {
   "cell_type": "markdown",
   "id": "ed5e0a33",
   "metadata": {},
   "source": [
    "\n",
    "\n",
    "\n",
    "\n",
    "\n",
    "\n"
   ]
  },
  {
   "cell_type": "markdown",
   "id": "900ae75a",
   "metadata": {},
   "source": [
    "# 11. Write a Python program to calculate the average of a list of numbers. "
   ]
  },
  {
   "cell_type": "code",
   "execution_count": 210,
   "id": "a2f1468c",
   "metadata": {},
   "outputs": [
    {
     "name": "stdout",
     "output_type": "stream",
     "text": [
      "[56, 94, 1, 66, 95, 66, 25, 26, 39, 11] \n",
      "\n",
      "Average: 47.9\n"
     ]
    }
   ],
   "source": [
    "#Solution - with Built in function\n",
    "\n",
    "from numpy import mean\n",
    "lst = []\n",
    "for x in range(10):\n",
    "    lst.append(randint(0,100))\n",
    "print(lst,'\\n')\n",
    "\n",
    "print('Average:', mean(lst))"
   ]
  },
  {
   "cell_type": "code",
   "execution_count": 211,
   "id": "a05b66ba",
   "metadata": {},
   "outputs": [
    {
     "name": "stdout",
     "output_type": "stream",
     "text": [
      "[39, 71, 88, 23, 42, 28, 72, 87, 46, 91] \n",
      "\n",
      "Average: 58.7\n"
     ]
    }
   ],
   "source": [
    "#Solution - Method 2\n",
    "\n",
    "def avg(lst):\n",
    "    return sum(lst) / len(lst)\n",
    "\n",
    "lst = []\n",
    "for x in range (10):\n",
    "    lst.append(randint(0,100))\n",
    "print(lst,'\\n')\n",
    "\n",
    "print('Average:', avg(lst))"
   ]
  },
  {
   "cell_type": "markdown",
   "id": "a20dd6e1",
   "metadata": {},
   "source": [
    "\n",
    "\n",
    "\n",
    "\n",
    "\n",
    "\n",
    "\n"
   ]
  },
  {
   "cell_type": "markdown",
   "id": "c0883eb6",
   "metadata": {},
   "source": [
    "# 12. Write a Python function to check if a string is a valid IP address. "
   ]
  },
  {
   "cell_type": "code",
   "execution_count": 313,
   "id": "1b57231d",
   "metadata": {},
   "outputs": [
    {
     "name": "stdout",
     "output_type": "stream",
     "text": [
      "True\n",
      "True\n",
      "True\n",
      "False\n",
      "False\n",
      "False\n",
      "\n",
      "True\n",
      "True\n",
      "True\n",
      "True\n",
      "True\n",
      "True\n",
      "True\n",
      "False\n",
      "False\n",
      "False\n"
     ]
    }
   ],
   "source": [
    "#Solution - Built in functions (works for ipv4 and ipv6)\n",
    "\n",
    "from ipaddress import ip_address\n",
    "def check_ipv4_ipv6(strg):\n",
    "    try:\n",
    "        ip_object = ip_address(strg)\n",
    "        return True\n",
    "    except ValueError:\n",
    "        return False\n",
    "    \n",
    "\n",
    "#Driver\n",
    "\n",
    "#ipv4 tests\n",
    "print(check_ipv4_ipv6('0.0.0.0'))          #true \n",
    "print(check_ipv4_ipv6('192.255.255.255'))  #true\n",
    "print(check_ipv4_ipv6('192.0.0.1'))        #true\n",
    "print(check_ipv4_ipv6('192.255.255.256'))   #false\n",
    "print(check_ipv4_ipv6('192.255.255.000'))   #false\n",
    "print(check_ipv4_ipv6('192.255.255.00'))   #false\n",
    "print()\n",
    "\n",
    "#ipv6 tests\n",
    "print(check_ipv4_ipv6('0000:0000:0000:0000:0000:0000:0000:0000'))  #true \n",
    "print(check_ipv4_ipv6('0:0:0:0:0:0:0:0'))                          #true \n",
    "print(check_ipv4_ipv6('::'))                                       #true\n",
    "print(check_ipv4_ipv6('0::f'))                                     #true\n",
    "print(check_ipv4_ipv6('2001:0db8:75a2:0000:0000:8a2e:0340:5625'))  #true\n",
    "print(check_ipv4_ipv6('ffff:ffff:ffff:ffff:ffff:ffff:ffff:ffff'))  #true\n",
    "print(check_ipv4_ipv6('AAAA:BBBB:CCCC:DDDD:EEEE:FFFF:0123:4567'))  #true\n",
    "print(check_ipv4_ipv6('0:g'))                                      #false\n",
    "print(check_ipv4_ipv6(':::'))                                      #false\n",
    "print(check_ipv4_ipv6('0::0::0'))                                  #false"
   ]
  },
  {
   "cell_type": "code",
   "execution_count": 275,
   "id": "5e542092",
   "metadata": {},
   "outputs": [
    {
     "name": "stdout",
     "output_type": "stream",
     "text": [
      "True\n",
      "True\n",
      "True\n",
      "False\n",
      "False\n",
      "False\n"
     ]
    }
   ],
   "source": [
    "#Solution - Regex\n",
    "\n",
    "from re import fullmatch\n",
    "def check_ipv4(strg):\n",
    "    \n",
    "    #Check string is of format: #.#.#.# (0-999)\n",
    "    if fullmatch('[0-9]{1,3}\\.[0-9]{1,3}\\.[0-9]{1,3}\\.[0-9]{1,3}', strg) == None:\n",
    "        return False\n",
    "    \n",
    "    #Now check all each byte (#) <= 255\n",
    "    byte = strg.split('.')\n",
    "    for i in byte:\n",
    "        x = int(i)\n",
    "        if x < 0 or x > 255:\n",
    "            return False\n",
    "        \n",
    "        #Finally ensure no leading 0's\n",
    "        if x >= 0 and x <= 9:\n",
    "            if len(i) > 1:\n",
    "                return False\n",
    "        if x >= 10 and x <= 99:\n",
    "            if len(i) > 2:\n",
    "                return False\n",
    "            \n",
    "    return True  #Valid ipv4 if reached\n",
    "    \n",
    "    \n",
    "#Driver\n",
    "print(check_ipv4('0.0.0.0'))          #true \n",
    "print(check_ipv4('192.255.255.255'))  #true\n",
    "print(check_ipv4('192.0.0.1'))        #true\n",
    "print(check_ipv4('192.255.255.256'))   #false\n",
    "print(check_ipv4('192.255.255.000'))   #false\n",
    "print(check_ipv4('192.255.255.00'))   #false"
   ]
  },
  {
   "cell_type": "markdown",
   "id": "d400d239",
   "metadata": {},
   "source": [
    "\n",
    "\n",
    "\n",
    "\n",
    "\n",
    "\n",
    "\n"
   ]
  },
  {
   "cell_type": "markdown",
   "id": "617b864f",
   "metadata": {},
   "source": [
    "# 13. Write a Python program to generate all permutations of a list. "
   ]
  },
  {
   "cell_type": "code",
   "execution_count": 93,
   "id": "3bb67a5f",
   "metadata": {},
   "outputs": [
    {
     "name": "stdout",
     "output_type": "stream",
     "text": [
      "lst1: [(1, 2, 3), (1, 3, 2), (2, 1, 3), (2, 3, 1), (3, 1, 2), (3, 2, 1)] \n",
      "\n",
      "lst2: [(1, 2, 3, 4), (1, 2, 4, 3), (1, 3, 2, 4), (1, 3, 4, 2), (1, 4, 2, 3), (1, 4, 3, 2), (2, 1, 3, 4), (2, 1, 4, 3), (2, 3, 1, 4), (2, 3, 4, 1), (2, 4, 1, 3), (2, 4, 3, 1), (3, 1, 2, 4), (3, 1, 4, 2), (3, 2, 1, 4), (3, 2, 4, 1), (3, 4, 1, 2), (3, 4, 2, 1), (4, 1, 2, 3), (4, 1, 3, 2), (4, 2, 1, 3), (4, 2, 3, 1), (4, 3, 1, 2), (4, 3, 2, 1)] \n",
      "\n",
      "strg: [('h', 'e', 'y'), ('h', 'y', 'e'), ('e', 'h', 'y'), ('e', 'y', 'h'), ('y', 'h', 'e'), ('y', 'e', 'h')] \n",
      "\n"
     ]
    }
   ],
   "source": [
    "#Solution - Built in fuction\n",
    "\n",
    "from itertools import permutations\n",
    "\n",
    "#Driver\n",
    "lst1 = [1,2,3]\n",
    "lst2 = [1,2,3,4]\n",
    "\n",
    "print('lst1:', list(permutations(lst1)), '\\n')\n",
    "print('lst2:', list(permutations(lst2)), '\\n')\n",
    "print('strg:', list(permutations('hey')), '\\n')"
   ]
  },
  {
   "cell_type": "code",
   "execution_count": 94,
   "id": "397c1933",
   "metadata": {},
   "outputs": [
    {
     "name": "stdout",
     "output_type": "stream",
     "text": [
      "['a', 'b', 'c']\n",
      "['a', 'c', 'b']\n",
      "['b', 'a', 'c']\n",
      "['b', 'c', 'a']\n",
      "['c', 'b', 'a']\n",
      "['c', 'a', 'b']\n"
     ]
    }
   ],
   "source": [
    "lst = ['a', 'b', 'c']\n",
    "\n",
    "def permute(lst, l, r):\n",
    "\n",
    "    if l == r-1:\n",
    "        print(lst) \n",
    "    \n",
    "    for i in range(l, r):\n",
    "        lst[l], lst[i] = lst[i], lst[l]\n",
    "        permute(lst, l+1, r)\n",
    "        lst[l], lst[i] = lst[i], lst[l]\n",
    "\n",
    "permute(lst,0,len(lst))"
   ]
  },
  {
   "cell_type": "markdown",
   "id": "a6cccf6f",
   "metadata": {},
   "source": [
    "# 14. Write a Python function to check if a given year is a leap year. "
   ]
  },
  {
   "cell_type": "code",
   "execution_count": null,
   "id": "7ab566b4",
   "metadata": {},
   "outputs": [],
   "source": []
  },
  {
   "cell_type": "markdown",
   "id": "f86725a2",
   "metadata": {},
   "source": [
    "\n",
    "\n",
    "\n",
    "\n",
    "\n",
    "\n",
    "\n"
   ]
  },
  {
   "cell_type": "markdown",
   "id": "d1087bfd",
   "metadata": {},
   "source": [
    "# 15. Write a Python program to find the most frequent element in a list."
   ]
  },
  {
   "cell_type": "code",
   "execution_count": null,
   "id": "ad4f6f3c",
   "metadata": {},
   "outputs": [],
   "source": []
  }
 ],
 "metadata": {
  "kernelspec": {
   "display_name": "Python 3 (ipykernel)",
   "language": "python",
   "name": "python3"
  },
  "language_info": {
   "codemirror_mode": {
    "name": "ipython",
    "version": 3
   },
   "file_extension": ".py",
   "mimetype": "text/x-python",
   "name": "python",
   "nbconvert_exporter": "python",
   "pygments_lexer": "ipython3",
   "version": "3.9.13"
  }
 },
 "nbformat": 4,
 "nbformat_minor": 5
}
